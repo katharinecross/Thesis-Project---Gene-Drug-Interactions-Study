{
 "cells": [
  {
   "cell_type": "markdown",
   "id": "8c7a5acb",
   "metadata": {},
   "source": [
    "# Characterizing Medication Effects on Genes Using Machine Learning\n",
    "## Katharine Cross - Honors Thesis Project\n",
    "\n",
    "#### Abstract:\n",
    "Machine learning methods have been widely applied to the field of genomics and bioinformatics. Specifically incorporating novel machine learning algorithms to study gene-drug interactions has the potential to make a major positive impact on disease treatment and prevention. The Library of Integrated Network-Based Cellular Signature (LINCS) data sets is a National Institute of Health Common Fund Program that catalogs how human cells respond to chemical, genetic and disease perturbations. In this work, we first apply clustering techniques to identify group sub-population structure in the gene expression changes across multiple Vorinostat perturbations. We then apply external novel feature importance statistics constructed by knockoffs to identify important gene expression changes within each sub-population with the theoretically guaranteed false discovery rate. Our research has the potential to aid future novel drug discovery. The methodology explored in this study will be able to identify important gene expression changes affected by Vorinostat drug family perturbations. Identification of such gene-drug interactions can facilitate better understanding of the mechanism of the disease and identify new drug targets. \n"
   ]
  },
  {
   "cell_type": "markdown",
   "id": "bc2a162f",
   "metadata": {},
   "source": [
    "## STEP 1: Initial Exploration"
   ]
  },
  {
   "cell_type": "markdown",
   "id": "cb43f279",
   "metadata": {},
   "source": [
    "### About the Data:\n",
    "\n",
    "There are 978 genes represented in this dataset (these are the rows in  the dataset). There are 3107 treatment observations and 3107 control observations (the columns). \n",
    "\n",
    "The columns of the data set represent robust z-scores for each gene across diffrent Vorinostat perturbations. It can therefore be assumed that there is a normal distrubtion, which makes generating knockoffs later in this study an appopriate method to use. "
   ]
  },
  {
   "cell_type": "code",
   "execution_count": 1,
   "id": "1826fcf5",
   "metadata": {},
   "outputs": [],
   "source": [
    "# imports\n",
    "\n",
    "import pickle\n",
    "import matplotlib.pyplot as plt\n",
    "import numpy as np\n",
    "import pandas as pd"
   ]
  },
  {
   "cell_type": "code",
   "execution_count": 2,
   "id": "8eff1609",
   "metadata": {},
   "outputs": [],
   "source": [
    "from sklearn.cluster import KMeans\n",
    "from sklearn.metrics import silhouette_score"
   ]
  },
  {
   "cell_type": "code",
   "execution_count": 3,
   "id": "d85a1246",
   "metadata": {},
   "outputs": [],
   "source": [
    "from sklearn.metrics import silhouette_samples\n",
    "from matplotlib.ticker import FixedLocator, FixedFormatter\n",
    "import matplotlib as mpl"
   ]
  },
  {
   "cell_type": "code",
   "execution_count": 4,
   "id": "ef2f1dae",
   "metadata": {},
   "outputs": [],
   "source": [
    "import matplotlib.pyplot as plt\n",
    "import seaborn as sns"
   ]
  },
  {
   "cell_type": "code",
   "execution_count": 5,
   "id": "5d7ec5e3",
   "metadata": {},
   "outputs": [],
   "source": [
    "from scipy.stats import ttest_ind"
   ]
  },
  {
   "cell_type": "code",
   "execution_count": 6,
   "id": "c76ed4c6",
   "metadata": {},
   "outputs": [],
   "source": [
    "# Upload Data Set \n",
    "\n",
    "with open(r'C:\\Users\\student\\OneDrive - Bryant University\\Desktop\\Honors Thesis\\readcombinedDatavorinostat.pkl', 'rb') as f:\n",
    "    GeneMtx1, combined_df1 = pickle.load(f)"
   ]
  },
  {
   "cell_type": "code",
   "execution_count": 7,
   "id": "e760e244",
   "metadata": {},
   "outputs": [
    {
     "data": {
      "text/plain": [
       "(6214, 978)"
      ]
     },
     "execution_count": 7,
     "metadata": {},
     "output_type": "execute_result"
    }
   ],
   "source": [
    "# Identify the Shape of the Gene Matrix\n",
    "\n",
    "GeneMtx1.shape"
   ]
  },
  {
   "cell_type": "code",
   "execution_count": 10,
   "id": "5419b810",
   "metadata": {},
   "outputs": [
    {
     "data": {
      "text/plain": [
       "(6214, 3)"
      ]
     },
     "execution_count": 10,
     "metadata": {},
     "output_type": "execute_result"
    }
   ],
   "source": [
    "combined_df1.shape"
   ]
  },
  {
   "cell_type": "code",
   "execution_count": 8,
   "id": "7f510c49",
   "metadata": {},
   "outputs": [
    {
     "data": {
      "text/plain": [
       "array([ 2.75270009e+00, -7.92269993e+00, -1.22930002e+00, -1.16840005e+00,\n",
       "        1.53929996e+00,  1.83829999e+00,  3.90899992e+00,  3.13380003e+00,\n",
       "       -2.99100012e-01,  1.97600007e-01, -2.34260011e+00,  4.34910011e+00,\n",
       "       -6.16520023e+00,  4.38889980e+00,  1.77059996e+00, -3.39260006e+00,\n",
       "        1.88110006e+00,  1.08969998e+00,  9.56700027e-01,  8.63699973e-01,\n",
       "        3.03340006e+00,  1.87530005e+00, -4.18399990e-01,  1.73889995e+00,\n",
       "       -8.10459995e+00,  3.83739996e+00,  3.42050004e+00,  1.73130000e+00,\n",
       "        1.00969994e+00, -5.88000007e-02, -5.94469976e+00, -7.81000033e-02,\n",
       "       -2.12680006e+00,  1.21010005e+00,  0.00000000e+00,  2.22490001e+00,\n",
       "        2.06000004e-02, -3.84200007e-01, -4.74240017e+00,  5.09030008e+00,\n",
       "       -1.89129996e+00,  6.74499989e-01,  1.62670004e+00,  2.97989988e+00,\n",
       "       -2.59080005e+00, -5.63600004e-01, -1.05017996e+01,  2.43249989e+00,\n",
       "       -1.43729997e+00,  4.36990023e+00, -3.73810005e+00,  9.74099994e-01,\n",
       "       -4.05770016e+00,  2.03160000e+00,  1.30110002e+00, -2.69889998e+00,\n",
       "       -4.24779987e+00,  1.16450000e+00,  3.33200002e+00,  7.24500000e-01,\n",
       "       -5.62300014e+00,  2.44869995e+00,  3.30700010e-01,  1.94219995e+00,\n",
       "       -2.37709999e+00,  4.71439981e+00,  4.63000014e-02, -2.57099986e-01,\n",
       "        3.57480001e+00, -7.76899993e-01, -1.80780005e+00,  3.39840007e+00,\n",
       "        1.97969997e+00,  9.21999991e-01,  2.53850007e+00, -7.21300006e-01,\n",
       "        1.52190006e+00,  1.89610004e+00, -2.41330004e+00, -1.62150002e+00,\n",
       "       -1.38436003e+01,  1.54929996e+00, -8.31900001e-01, -3.05019999e+00,\n",
       "       -1.38750005e+00, -7.40640020e+00,  2.17299998e-01,  6.14979982e+00,\n",
       "       -2.13509989e+00, -3.84669995e+00, -7.97599971e-01, -7.15099990e-01,\n",
       "        2.20670009e+00,  2.62800002e+00, -5.43800020e+00, -1.41869998e+00,\n",
       "        1.25730002e+00, -6.86840010e+00,  2.54200011e-01,  9.75799978e-01,\n",
       "       -1.89999998e+00, -9.62199986e-01,  1.64409995e+00,  1.15709996e+00,\n",
       "       -2.32830000e+00,  3.66849995e+00, -9.67700005e-01,  4.08909988e+00,\n",
       "        8.85500014e-01,  6.31150007e+00, -5.46619987e+00,  1.86839998e+00,\n",
       "       -1.32130003e+00,  8.23900032e+00,  1.32650006e+00, -7.74999976e-01,\n",
       "       -6.54999971e-01,  7.61699975e-01, -1.95389998e+00, -3.63319993e+00,\n",
       "       -7.60209990e+00,  1.37899995e-01,  1.02300000e+00, -2.92030001e+00,\n",
       "       -9.05049992e+00,  5.41299999e-01,  1.30920005e+00, -7.73350000e+00,\n",
       "        1.22208004e+01, -7.22840023e+00,  3.53500009e-01,  1.82799995e-01,\n",
       "       -3.39510012e+00, -5.20299971e-01,  4.15129995e+00, -5.14340019e+00,\n",
       "        1.96199998e-01,  7.63899982e-01, -1.40730000e+00, -3.99429989e+00,\n",
       "       -2.23160005e+00, -5.69229984e+00,  1.42040002e+00,  1.69250000e+00,\n",
       "       -2.60089993e+00,  1.24360001e+00,  7.83449984e+00,  2.75000006e-01,\n",
       "        1.06321001e+01, -6.11400008e-01,  1.32550001e+00,  2.51629996e+00,\n",
       "       -1.88899994e-01,  2.52530003e+00,  2.47250009e+00, -1.28750002e+00,\n",
       "        5.74299991e-01, -3.69869995e+00,  1.57529998e+00, -9.04000029e-02,\n",
       "        5.00610018e+00,  1.38769996e+00,  1.06830001e+00,  5.56459999e+00,\n",
       "        3.48749995e+00,  2.65149999e+00, -1.00479996e+00,  1.95785007e+01,\n",
       "       -3.89919996e+00,  4.96740007e+00,  9.08850002e+00,  1.42270005e+00,\n",
       "       -1.54900002e+00, -3.53959990e+00, -3.88100004e+00, -2.85050011e+00,\n",
       "       -5.11000007e-02,  2.23839998e+00,  1.43900001e+00, -1.73810005e+00,\n",
       "        5.49499989e-01, -3.13129997e+00,  8.94599974e-01,  1.28390002e+00,\n",
       "        2.52399993e+00, -7.64699996e-01,  1.37919998e+00, -9.11149979e+00,\n",
       "       -4.05520010e+00,  3.45729995e+00, -9.45890045e+00, -7.82180023e+00,\n",
       "       -6.99999975e-04,  4.85680008e+00,  1.00020003e+00, -9.28200006e-01,\n",
       "        4.27869987e+00, -2.81349993e+00, -2.28999996e+00, -3.89229989e+00,\n",
       "       -1.80460000e+00, -3.92899990e-01, -2.29029989e+00,  5.44080019e+00,\n",
       "       -3.70400012e-01,  1.99710000e+00, -6.66219997e+00,  1.08990002e+00,\n",
       "        4.49000001e-02, -1.92649996e+00, -4.89499986e-01,  1.29139996e+00,\n",
       "        2.24559999e+00, -4.86380005e+00,  5.06500006e+00, -5.47989988e+00,\n",
       "        2.52160001e+00, -3.19099993e-01, -7.32999966e-02,  5.83020020e+00,\n",
       "       -4.08820009e+00, -6.38110018e+00, -5.78119993e+00, -9.71999988e-02,\n",
       "       -1.45840001e+00, -3.97270012e+00, -1.45379996e+00,  8.75100017e-01,\n",
       "        5.15869999e+00,  9.26999986e-01, -6.93319988e+00, -1.45290005e+00,\n",
       "       -1.07625999e+01, -1.69410002e+00, -6.18529987e+00, -1.26719999e+00,\n",
       "        1.97759998e+00, -1.10060000e+00,  1.01240003e+00, -4.48299980e+00,\n",
       "        2.67589998e+00,  8.71999979e-01, -6.03310013e+00,  1.10780001e+00,\n",
       "       -1.52119994e+00,  1.15569997e+00,  2.91989994e+00, -1.47409999e+00,\n",
       "       -7.89399981e-01, -5.31999990e-02,  7.13000000e-01, -2.45560002e+00,\n",
       "        3.28819990e+00, -2.96399999e+00,  0.00000000e+00,  9.47499990e-01,\n",
       "        4.48010015e+00, -6.12500012e-01,  2.19779992e+00,  1.03359997e+00,\n",
       "       -1.26950002e+00,  3.03400010e-01,  8.54600012e-01,  2.41989994e+00,\n",
       "        3.53599995e-01, -2.48140001e+00,  2.50300002e+00,  2.30760002e+00,\n",
       "        2.62269998e+00,  9.47300017e-01,  1.13399997e-01,  2.16190004e+00,\n",
       "       -7.57030010e+00, -7.32490015e+00, -4.31330013e+00, -1.70583992e+01,\n",
       "        4.78630018e+00, -1.04610002e+00,  7.98070002e+00, -1.47400007e-01,\n",
       "        2.89000005e-01,  7.38500023e+00,  2.25289989e+00,  3.52699995e-01,\n",
       "        3.80080009e+00,  3.60000014e-01,  5.69269991e+00, -7.01480007e+00,\n",
       "        3.52209997e+00,  3.64059997e+00,  2.78999992e-02,  8.79199982e-01,\n",
       "       -5.50740004e+00,  8.92700016e-01, -4.85750008e+00,  3.28110003e+00,\n",
       "       -2.53189993e+00,  3.10799986e-01, -3.72909999e+00,  2.28909993e+00,\n",
       "       -8.42230034e+00,  2.91619992e+00,  1.69889998e+00,  4.24100012e-01,\n",
       "       -1.96634007e+01,  1.39429998e+00, -2.39630008e+00,  1.74930000e+00,\n",
       "        3.47550011e+00, -4.37069988e+00, -1.36310005e+00,  1.24580002e+00,\n",
       "       -7.50139999e+00, -4.02409983e+00, -1.80260003e+00,  9.50900018e-01,\n",
       "       -1.44500002e-01,  8.62299979e-01,  6.87000006e-02,  7.73000002e-01,\n",
       "       -8.24380016e+00,  9.78699982e-01,  2.32909989e+00,  1.07860005e+00,\n",
       "        2.43799999e-01,  1.32500005e+00,  6.50099993e-01, -2.87499994e-01,\n",
       "        3.73250008e+00, -3.40949988e+00,  2.17969990e+00, -8.74800026e-01,\n",
       "       -5.19439983e+00,  9.39199984e-01,  4.44499999e-01, -1.36339998e+00,\n",
       "       -3.83159995e+00,  1.98150003e+00,  5.15299976e-01,  3.78500015e-01,\n",
       "        1.20949996e+00,  1.43099993e-01, -7.21099973e-01, -2.00959992e+00,\n",
       "        2.85969996e+00,  7.89090014e+00, -1.02869999e+00,  1.01450002e+00,\n",
       "        3.33060002e+00, -3.18149996e+00, -9.31800008e-01,  4.43899989e-01,\n",
       "        3.26200008e-01,  2.81699985e-01,  8.20000023e-02,  9.64800000e-01,\n",
       "        8.94699991e-01,  2.39420009e+00,  3.22600007e-01,  5.89500010e-01,\n",
       "        8.06800008e-01, -6.04099989e-01,  1.41869998e+00,  1.88900006e+00,\n",
       "        4.13180017e+00,  1.04149997e+00, -2.42300010e+00,  4.28060007e+00,\n",
       "        0.00000000e+00, -5.56990004e+00,  3.48790002e+00, -2.42890000e+00,\n",
       "       -2.37369990e+00, -1.64520001e+00, -2.20519996e+00, -2.46900007e-01,\n",
       "        4.80299997e+00, -4.33589983e+00, -1.96730006e+00, -3.17280006e+00,\n",
       "       -3.58750010e+00, -4.57130003e+00,  2.57640004e+00, -5.97919989e+00,\n",
       "       -7.15099990e-01,  4.39370012e+00, -2.84870005e+00, -5.26529980e+00,\n",
       "       -6.31500006e-01,  1.38750005e+00, -5.92180014e+00, -7.13699996e-01,\n",
       "       -2.35560012e+00,  3.72919989e+00,  1.63189995e+00,  8.62349987e+00,\n",
       "       -1.79069996e+00,  4.45830011e+00,  1.80920005e+00, -7.01219988e+00,\n",
       "        1.64269996e+00,  8.01800013e-01,  3.76040006e+00, -1.90999997e+00,\n",
       "        3.77410007e+00,  1.90250003e+00, -2.86739993e+00, -2.70770001e+00,\n",
       "        5.03480005e+00,  2.60430002e+00,  3.19099993e-01, -6.08440018e+00,\n",
       "        5.64599991e-01,  2.99769998e+00, -1.55207005e+01,  2.26650000e+00,\n",
       "       -6.61899984e-01, -1.33729994e+00,  4.64470005e+00,  1.03910005e+00,\n",
       "        2.97659993e+00,  3.36369991e+00, -4.38100004e+00, -1.63769996e+00,\n",
       "        4.85000014e-02, -1.52600005e-01, -5.84350014e+00, -3.83100003e-01,\n",
       "        2.65549994e+00,  3.21620011e+00, -1.00349998e+00,  2.19140005e+00,\n",
       "       -3.07859993e+00,  3.85990000e+00,  5.93999982e-01,  1.44369996e+00,\n",
       "       -9.80799973e-01, -4.46180010e+00,  2.05069995e+00,  7.42530012e+00,\n",
       "       -3.33330011e+00,  5.32270002e+00, -4.61709976e+00, -9.59599972e-01,\n",
       "        1.14900005e+00, -5.00400007e-01, -1.22959995e+00, -2.46079993e+00,\n",
       "        3.19449997e+00, -6.90840006e+00, -9.21619987e+00,  2.79320002e+00,\n",
       "        3.36389995e+00,  2.95499992e+00, -6.25659990e+00,  6.24930000e+00,\n",
       "       -1.21688995e+01, -6.53000021e+00,  2.94519997e+00,  6.67829990e+00,\n",
       "        3.27699995e+00,  4.33999985e-01, -1.06470001e+00, -8.01539993e+00,\n",
       "       -2.12080002e+00,  5.32989979e+00, -3.49950004e+00,  3.03900003e-01,\n",
       "       -6.89309978e+00, -5.57699978e-01, -1.74829996e+00,  1.35036001e+01,\n",
       "        2.28200006e+00,  2.10780001e+00,  1.68659997e+00,  1.93379998e+00,\n",
       "        1.62880003e+00, -8.22200000e-01, -2.96239996e+00, -3.57100010e-01,\n",
       "        2.90450001e+00,  4.86639977e+00, -3.38350010e+00,  1.91630006e+00,\n",
       "       -3.01209998e+00,  6.41190004e+00, -4.68410015e+00, -4.07950020e+00,\n",
       "       -1.10150003e+00,  2.57820010e+00, -1.16849995e+00,  6.99569988e+00,\n",
       "       -3.54539990e+00,  3.30419993e+00,  8.77600002e+00, -7.49000013e-02,\n",
       "        4.59849977e+00,  1.01390004e+00, -8.03600025e+00,  1.11900002e-01,\n",
       "       -5.58339977e+00, -5.11500001e-01,  3.20840001e+00, -2.39330006e+00,\n",
       "        1.66949999e+00,  3.97810006e+00, -5.40600002e-01,  1.00502005e+01,\n",
       "        1.93069994e+00, -1.10670996e+01,  4.56600010e-01, -1.08920002e+00,\n",
       "        1.22570002e+00,  2.48490000e+00, -3.03500009e+00,  5.76350021e+00,\n",
       "       -2.57960010e+00,  1.57749999e+00, -7.67030001e+00, -1.13540006e+00,\n",
       "       -1.95700002e+00,  4.40670013e+00,  2.95239997e+00, -6.27000034e-02,\n",
       "        8.66429996e+00,  3.33600014e-01,  5.99819994e+00,  6.74399972e-01,\n",
       "       -1.22165003e+01,  1.44180000e+00,  1.60999998e-01, -5.16239977e+00,\n",
       "       -1.78962002e+01,  1.41270006e+00,  7.45979977e+00, -1.76730001e+00,\n",
       "       -4.57849979e+00,  9.00500000e-01, -1.29009998e+00,  3.00130010e+00,\n",
       "       -3.94939995e+00,  3.08789992e+00, -2.10750008e+00, -8.39900017e-01,\n",
       "       -2.15109992e+00,  5.12680006e+00,  1.36380005e+00,  1.21689999e+00,\n",
       "       -1.62390006e+00, -6.03900015e-01, -3.98690009e+00,  9.47099972e+00,\n",
       "       -4.72989988e+00,  6.35519981e+00, -6.78399980e-01, -4.65640020e+00,\n",
       "       -3.38429999e+00,  4.83349991e+00,  1.01499999e+00,  5.72049999e+00,\n",
       "        2.22599998e-01, -5.97259998e+00, -1.15906000e+01, -1.93529999e+00,\n",
       "       -2.01259995e+00,  1.09919004e+01,  7.34899998e-01, -2.13400006e-01,\n",
       "        1.76429999e+00,  2.96299994e-01,  1.67990005e+00,  2.96320009e+00,\n",
       "        4.94910002e+00,  3.10999990e+00, -8.79599988e-01, -2.30329990e+00,\n",
       "       -2.14650011e+00,  1.38030005e+00,  2.15120006e+00, -1.35790002e+00,\n",
       "        4.41709995e+00,  4.50239992e+00, -5.62200010e-01, -1.99699998e-01,\n",
       "        1.80480003e+00,  4.18000013e-01,  1.89730000e+00, -3.36310005e+00,\n",
       "        1.04779994e+00, -3.16359997e+00, -4.06100005e-01,  1.03209996e+00,\n",
       "        1.03349996e+00, -3.65999997e-01,  3.21000010e-01, -4.05600011e-01,\n",
       "        1.03180003e+00, -6.16520023e+00, -1.20519996e+00, -2.07859993e+00,\n",
       "       -1.50059998e+00, -6.57299995e-01,  6.60309982e+00,  5.94640017e+00,\n",
       "        1.40970004e+00,  4.44400012e-01,  6.05199993e-01,  2.11290002e+00,\n",
       "       -3.37630010e+00,  1.16159999e+00,  1.38462000e+01, -1.76049995e+00,\n",
       "       -8.58829975e+00,  4.05350018e+00,  3.99819994e+00, -9.10000026e-01,\n",
       "       -1.53359997e+00, -1.48880005e+00, -3.73490000e+00, -5.51859999e+00,\n",
       "        7.85799980e-01, -2.70749998e+00, -1.26639998e+00,  1.65750003e+00,\n",
       "       -4.93680000e+00, -7.69800007e-01, -1.43990004e+00,  4.63850021e+00,\n",
       "        1.41900003e-01,  1.18970001e+00,  1.96399999e+00, -5.15810013e+00,\n",
       "        3.28080010e+00,  1.37829995e+00,  1.94999993e-01,  5.18279982e+00,\n",
       "       -3.99320006e+00, -1.77639997e+00,  9.45200026e-01, -7.00999975e-01,\n",
       "       -9.19099987e-01, -3.57159996e+00,  1.01289999e+00, -2.44000006e+00,\n",
       "       -3.89140010e+00,  3.14520001e+00, -2.02259994e+00,  2.83189988e+00,\n",
       "       -1.41719997e+00,  1.50320005e+00, -3.47609997e+00, -5.81099987e-01,\n",
       "       -1.09940004e+00,  1.78000003e-01, -8.41000021e-01, -6.74499989e-01,\n",
       "       -2.30089998e+00,  8.42599988e-01,  1.90300003e-01, -5.64340019e+00,\n",
       "       -7.03999996e-01, -8.25220013e+00,  3.07139993e+00,  6.99999975e-04,\n",
       "        4.97809982e+00,  3.16260004e+00, -3.35099995e-01,  4.09460020e+00,\n",
       "        5.89500010e-01,  3.28099996e-01,  7.77400017e-01,  7.82800019e-01,\n",
       "        8.56500030e-01, -4.02810001e+00, -1.75590003e+00,  6.72900021e-01,\n",
       "        1.02919996e+00,  6.55919981e+00, -1.88039994e+00, -1.27830005e+00,\n",
       "       -1.12300003e+00, -3.89680004e+00, -6.70000017e-01, -1.20650005e+00,\n",
       "       -3.49270010e+00,  1.51870000e+00,  6.30400002e-01,  7.27500021e-01,\n",
       "       -9.77199972e-01, -1.33268003e+01,  2.28279996e+00, -5.44099987e-01,\n",
       "       -3.21339989e+00, -3.41699988e-01, -3.18339992e+00,  1.17500000e-01,\n",
       "        5.78999996e-01,  1.33029997e+00, -2.95779991e+00, -2.58710003e+00,\n",
       "        1.53509998e+00,  1.62590003e+00, -4.30000007e-01,  4.58860016e+00,\n",
       "        3.35369992e+00,  3.66219997e+00, -5.98200023e-01, -4.98499990e-01,\n",
       "       -7.15070009e+00, -4.69990015e+00, -7.27400005e-01,  2.31710005e+00,\n",
       "        1.96640003e+00, -1.06949997e+00, -1.23150003e+00,  5.06979990e+00,\n",
       "        2.79100001e-01, -2.31310010e+00,  3.22370005e+00,  2.69569993e+00,\n",
       "        8.67900014e-01,  1.07579994e+00, -1.37870002e+00,  5.34699976e-01,\n",
       "       -5.65710020e+00, -4.70200002e-01,  1.58710003e+00,  3.09579992e+00,\n",
       "       -1.22859001e+01, -1.86000001e-02,  8.62100005e-01,  8.51199985e-01,\n",
       "       -1.01409996e+00,  2.15452003e+01,  3.03900003e-01, -1.58200002e+00,\n",
       "       -2.40280008e+00, -1.39260006e+00, -7.03999996e-01, -6.82910013e+00,\n",
       "       -2.02069998e+00,  2.27080011e+00, -2.02600002e-01, -1.63259995e+00,\n",
       "       -2.18000002e-02, -2.47099996e-01, -1.30110002e+00, -3.97199988e-01,\n",
       "       -2.90560007e+00, -1.10599995e+00,  4.72650003e+00, -2.82150006e+00,\n",
       "        4.66660023e+00,  1.12320006e+00, -8.69530010e+00, -3.66639996e+00,\n",
       "       -3.23850012e+00, -5.01340008e+00, -5.88599980e-01, -1.61400005e-01,\n",
       "        3.19269991e+00, -1.33099997e+00,  1.10099995e+00,  3.92670012e+00,\n",
       "        2.40809989e+00,  1.52800000e+00, -3.50139999e+00, -2.12339997e+00,\n",
       "       -8.59000012e-02,  5.23530006e+00,  1.05710006e+00,  3.33179998e+00,\n",
       "       -5.22209978e+00,  2.30299994e-01, -4.31300014e-01, -1.31394997e+01,\n",
       "       -4.67200011e-01, -1.46010005e+00, -5.28000021e+00,  2.13540006e+00,\n",
       "        5.16999997e-02,  3.69460011e+00, -4.07499999e-01,  4.00990009e+00,\n",
       "       -2.98670006e+00,  1.56239998e+00, -1.10319996e+00,  1.89090002e+00,\n",
       "       -1.39090002e+00,  1.41910005e+00, -2.81870008e+00,  8.03799987e-01,\n",
       "       -1.01250005e+00, -6.13619995e+00,  3.22480011e+00, -1.93399996e-01,\n",
       "        5.78020000e+00,  4.32760000e+00,  1.34549999e+00, -1.51670003e+00,\n",
       "        2.44499993e+00,  4.54879999e+00,  1.83480000e+00,  1.08780003e+00,\n",
       "        7.56699979e-01,  1.30359995e+00,  5.80229998e+00,  2.07200003e+00,\n",
       "       -1.94560003e+00, -6.41979980e+00, -1.85200006e-01, -3.41219997e+00,\n",
       "        1.58770001e+00, -9.86400008e-01,  7.59989977e+00, -3.49740005e+00,\n",
       "        1.54190004e+00, -3.30700010e-01, -8.64850044e+00,  1.92970002e+00,\n",
       "        2.15899992e+00,  3.17490005e+00, -3.18720007e+00,  3.80620003e+00,\n",
       "       -1.99249995e+00, -9.10000026e-01, -5.10979986e+00,  1.23924999e+01,\n",
       "        4.05520010e+00,  7.37729979e+00,  2.24999994e-01,  1.66410005e+00,\n",
       "       -1.21440005e+00,  5.95200002e-01,  2.78099990e+00,  1.08420002e+00,\n",
       "       -3.65260005e+00,  1.92509997e+00, -4.08479977e+00, -3.94899988e+00,\n",
       "        3.44199985e-01,  2.00349998e+00,  4.96100008e-01,  2.99449992e+00,\n",
       "        5.24630022e+00,  1.33459997e+00, -3.44860005e+00, -7.10200012e-01,\n",
       "        3.62150002e+00,  2.37299994e-01,  1.68620002e+00,  3.93580008e+00,\n",
       "       -6.37600005e-01, -1.51320004e+00, -2.81949997e+00, -1.35990000e+00,\n",
       "        1.03810000e+00,  3.38689995e+00,  3.65689993e+00,  6.27300024e-01,\n",
       "       -3.58719993e+00,  1.34599996e+00, -4.62919998e+00,  7.97800004e-01,\n",
       "        8.51999968e-02, -6.02080011e+00,  1.47599995e-01,  9.02999997e-01,\n",
       "        5.16200006e-01,  2.53899992e-01, -2.69899988e+00, -2.70599991e-01,\n",
       "       -7.30420017e+00,  5.07410002e+00,  5.23400021e+00, -6.74499989e-01,\n",
       "        4.08389997e+00, -5.27400017e-01,  1.24650002e+00,  1.40680003e+00,\n",
       "        1.72420001e+00, -4.89130020e+00,  1.17809999e+00, -1.92900002e-01,\n",
       "       -2.27230000e+00,  4.45100009e-01, -3.32859993e+00, -1.29059994e+00,\n",
       "        5.27400017e-01,  3.01580000e+00, -1.12767000e+01, -8.69830036e+00,\n",
       "        9.23900008e-01, -1.38820004e+00, -2.25279999e+00,  2.63910007e+00,\n",
       "        1.88100004e+00, -2.94140005e+00, -1.90970004e+00, -1.51020002e+00,\n",
       "        1.21999998e-02, -3.55550003e+00,  1.33620000e+00,  2.46040010e+00,\n",
       "        1.77230000e+00,  7.48040009e+00, -3.36299986e-01, -9.57769966e+00,\n",
       "        2.91960001e+00,  3.37290001e+00, -6.38269997e+00,  6.69829988e+00,\n",
       "       -1.36839998e+00, -6.44699991e-01, -6.06300020e+00, -2.16820002e+00,\n",
       "        3.30399990e-01, -2.41589999e+00,  1.76180005e+00, -4.67999995e-01,\n",
       "        2.36279988e+00, -9.90929985e+00, -9.33700025e-01,  1.76549995e+00,\n",
       "       -5.96220016e+00,  7.05399990e-01, -4.07849979e+00,  3.44379997e+00,\n",
       "       -1.89500004e-01, -8.43800008e-01, -6.17699981e-01, -8.91860008e+00,\n",
       "       -4.91739988e+00, -1.82249999e+00, -6.53779984e+00, -5.86799979e-01,\n",
       "       -7.03700006e-01, -5.09999990e-02,  1.44190001e+00, -5.34369993e+00,\n",
       "        3.79900008e-01, -9.83399987e-01,  4.04829979e+00,  7.34099984e-01,\n",
       "        3.25320005e+00, -9.81100023e-01,  2.88750005e+00,  8.08730030e+00,\n",
       "        5.50400019e-01, -7.64100015e-01,  2.91799992e-01,  5.27799988e+00,\n",
       "        3.64899993e-01,  1.43970001e+00,  4.96120024e+00, -1.08862000e+01,\n",
       "        1.95620000e+00,  5.06239986e+00, -1.09249997e+00, -8.52599978e-01,\n",
       "       -1.91700006e+00,  1.26849997e+00, -3.94300014e-01,  5.01690006e+00,\n",
       "        2.18449998e+00,  1.03079998e+00,  6.74499989e-01, -3.74399990e-01,\n",
       "       -5.14800012e-01, -5.69500029e-01, -5.25899982e+00, -2.89099991e-01,\n",
       "        3.07859993e+00,  1.43600002e-01, -2.00169992e+00, -4.89529991e+00,\n",
       "        2.40400001e-01, -1.26138000e+01])"
      ]
     },
     "execution_count": 8,
     "metadata": {},
     "output_type": "execute_result"
    }
   ],
   "source": [
    "GeneMtx1[0,:]"
   ]
  },
  {
   "cell_type": "code",
   "execution_count": 8,
   "id": "3a5ee874",
   "metadata": {},
   "outputs": [
    {
     "data": {
      "text/html": [
       "<div>\n",
       "<style scoped>\n",
       "    .dataframe tbody tr th:only-of-type {\n",
       "        vertical-align: middle;\n",
       "    }\n",
       "\n",
       "    .dataframe tbody tr th {\n",
       "        vertical-align: top;\n",
       "    }\n",
       "\n",
       "    .dataframe thead th {\n",
       "        text-align: right;\n",
       "    }\n",
       "</style>\n",
       "<table border=\"1\" class=\"dataframe\">\n",
       "  <thead>\n",
       "    <tr style=\"text-align: right;\">\n",
       "      <th></th>\n",
       "      <th>Unnamed: 0</th>\n",
       "    </tr>\n",
       "  </thead>\n",
       "  <tbody>\n",
       "    <tr>\n",
       "      <th>Unnamed: 0</th>\n",
       "      <td>1.0</td>\n",
       "    </tr>\n",
       "  </tbody>\n",
       "</table>\n",
       "</div>"
      ],
      "text/plain": [
       "            Unnamed: 0\n",
       "Unnamed: 0         1.0"
      ]
     },
     "execution_count": 8,
     "metadata": {},
     "output_type": "execute_result"
    }
   ],
   "source": [
    "combined_df1.corr()"
   ]
  },
  {
   "cell_type": "markdown",
   "id": "fc749af6",
   "metadata": {},
   "source": [
    "The Gene Matrix for the Vorinostat Drug Family has 6,214 elements, each with 978 elements"
   ]
  },
  {
   "cell_type": "code",
   "execution_count": 9,
   "id": "3697e803",
   "metadata": {},
   "outputs": [
    {
     "data": {
      "text/html": [
       "<div>\n",
       "<style scoped>\n",
       "    .dataframe tbody tr th:only-of-type {\n",
       "        vertical-align: middle;\n",
       "    }\n",
       "\n",
       "    .dataframe tbody tr th {\n",
       "        vertical-align: top;\n",
       "    }\n",
       "\n",
       "    .dataframe thead th {\n",
       "        text-align: right;\n",
       "    }\n",
       "</style>\n",
       "<table border=\"1\" class=\"dataframe\">\n",
       "  <thead>\n",
       "    <tr style=\"text-align: right;\">\n",
       "      <th></th>\n",
       "      <th>Unnamed: 0</th>\n",
       "      <th>inst_id</th>\n",
       "      <th>pert_iname</th>\n",
       "    </tr>\n",
       "  </thead>\n",
       "  <tbody>\n",
       "    <tr>\n",
       "      <th>46555</th>\n",
       "      <td>46556</td>\n",
       "      <td>CPC004_HA1E_24H_X1_B3_DUO52HI53LO:B04</td>\n",
       "      <td>vorinostat</td>\n",
       "    </tr>\n",
       "    <tr>\n",
       "      <th>46556</th>\n",
       "      <td>46557</td>\n",
       "      <td>CPC004_HA1E_24H_X2_B3_DUO52HI53LO:B04</td>\n",
       "      <td>vorinostat</td>\n",
       "    </tr>\n",
       "    <tr>\n",
       "      <th>46557</th>\n",
       "      <td>46558</td>\n",
       "      <td>CPC004_HA1E_24H_X3_B3_DUO52HI53LO:B04</td>\n",
       "      <td>vorinostat</td>\n",
       "    </tr>\n",
       "    <tr>\n",
       "      <th>46597</th>\n",
       "      <td>46598</td>\n",
       "      <td>CPC004_HT29_6H_X1_B3_DUO52HI53LO:B04</td>\n",
       "      <td>vorinostat</td>\n",
       "    </tr>\n",
       "    <tr>\n",
       "      <th>46598</th>\n",
       "      <td>46599</td>\n",
       "      <td>CPC004_HT29_6H_X2_B3_DUO52HI53LO:B04</td>\n",
       "      <td>vorinostat</td>\n",
       "    </tr>\n",
       "  </tbody>\n",
       "</table>\n",
       "</div>"
      ],
      "text/plain": [
       "       Unnamed: 0                                inst_id  pert_iname\n",
       "46555       46556  CPC004_HA1E_24H_X1_B3_DUO52HI53LO:B04  vorinostat\n",
       "46556       46557  CPC004_HA1E_24H_X2_B3_DUO52HI53LO:B04  vorinostat\n",
       "46557       46558  CPC004_HA1E_24H_X3_B3_DUO52HI53LO:B04  vorinostat\n",
       "46597       46598   CPC004_HT29_6H_X1_B3_DUO52HI53LO:B04  vorinostat\n",
       "46598       46599   CPC004_HT29_6H_X2_B3_DUO52HI53LO:B04  vorinostat"
      ]
     },
     "execution_count": 9,
     "metadata": {},
     "output_type": "execute_result"
    }
   ],
   "source": [
    "# See Top 5 Records\n",
    "\n",
    "combined_df1.head()"
   ]
  },
  {
   "cell_type": "code",
   "execution_count": 10,
   "id": "2dd61f2f",
   "metadata": {},
   "outputs": [
    {
     "name": "stdout",
     "output_type": "stream",
     "text": [
      "<class 'pandas.core.frame.DataFrame'>\n",
      "Int64Index: 6214 entries, 46555 to 180181\n",
      "Data columns (total 3 columns):\n",
      " #   Column      Non-Null Count  Dtype \n",
      "---  ------      --------------  ----- \n",
      " 0   Unnamed: 0  6214 non-null   int64 \n",
      " 1   inst_id     6214 non-null   object\n",
      " 2   pert_iname  6214 non-null   object\n",
      "dtypes: int64(1), object(2)\n",
      "memory usage: 194.2+ KB\n"
     ]
    }
   ],
   "source": [
    "combined_df1.info()"
   ]
  },
  {
   "cell_type": "code",
   "execution_count": 11,
   "id": "bd7c738d",
   "metadata": {},
   "outputs": [
    {
     "data": {
      "text/html": [
       "<div>\n",
       "<style scoped>\n",
       "    .dataframe tbody tr th:only-of-type {\n",
       "        vertical-align: middle;\n",
       "    }\n",
       "\n",
       "    .dataframe tbody tr th {\n",
       "        vertical-align: top;\n",
       "    }\n",
       "\n",
       "    .dataframe thead th {\n",
       "        text-align: right;\n",
       "    }\n",
       "</style>\n",
       "<table border=\"1\" class=\"dataframe\">\n",
       "  <thead>\n",
       "    <tr style=\"text-align: right;\">\n",
       "      <th></th>\n",
       "      <th>Unnamed: 0</th>\n",
       "    </tr>\n",
       "  </thead>\n",
       "  <tbody>\n",
       "    <tr>\n",
       "      <th>count</th>\n",
       "      <td>6214.000000</td>\n",
       "    </tr>\n",
       "    <tr>\n",
       "      <th>mean</th>\n",
       "      <td>359048.002253</td>\n",
       "    </tr>\n",
       "    <tr>\n",
       "      <th>std</th>\n",
       "      <td>177076.125906</td>\n",
       "    </tr>\n",
       "    <tr>\n",
       "      <th>min</th>\n",
       "      <td>1.000000</td>\n",
       "    </tr>\n",
       "    <tr>\n",
       "      <th>25%</th>\n",
       "      <td>225872.500000</td>\n",
       "    </tr>\n",
       "    <tr>\n",
       "      <th>50%</th>\n",
       "      <td>375875.500000</td>\n",
       "    </tr>\n",
       "    <tr>\n",
       "      <th>75%</th>\n",
       "      <td>521577.500000</td>\n",
       "    </tr>\n",
       "    <tr>\n",
       "      <th>max</th>\n",
       "      <td>615201.000000</td>\n",
       "    </tr>\n",
       "  </tbody>\n",
       "</table>\n",
       "</div>"
      ],
      "text/plain": [
       "          Unnamed: 0\n",
       "count    6214.000000\n",
       "mean   359048.002253\n",
       "std    177076.125906\n",
       "min         1.000000\n",
       "25%    225872.500000\n",
       "50%    375875.500000\n",
       "75%    521577.500000\n",
       "max    615201.000000"
      ]
     },
     "execution_count": 11,
     "metadata": {},
     "output_type": "execute_result"
    }
   ],
   "source": [
    "combined_df1.describe()"
   ]
  },
  {
   "cell_type": "markdown",
   "id": "757cf7ad",
   "metadata": {},
   "source": [
    "## STEP 2: Determing the Number of Clusters"
   ]
  },
  {
   "cell_type": "code",
   "execution_count": 12,
   "id": "55b47a13",
   "metadata": {},
   "outputs": [
    {
     "data": {
      "text/plain": [
       "(3107, 978)"
      ]
     },
     "execution_count": 12,
     "metadata": {},
     "output_type": "execute_result"
    }
   ],
   "source": [
    "# Create a Sub Population Containing Half of the Data\n",
    "# This contains the Experimental Pertubation Observations for each Gene (excludes the control)\n",
    "\n",
    "GeneMtx1Sub = GeneMtx1[0:3107,:]\n",
    "\n",
    "GeneMtx1Sub.shape"
   ]
  },
  {
   "cell_type": "code",
   "execution_count": 16,
   "id": "1f40ea5f",
   "metadata": {},
   "outputs": [
    {
     "data": {
      "text/plain": [
       "(93.34750366210938, -79.44619750976562)"
      ]
     },
     "execution_count": 16,
     "metadata": {},
     "output_type": "execute_result"
    }
   ],
   "source": [
    "GeneMtx1.max(),GeneMtx1.min()\n"
   ]
  },
  {
   "cell_type": "code",
   "execution_count": 14,
   "id": "d62a8e94",
   "metadata": {},
   "outputs": [],
   "source": [
    "kmeans_per_k = [KMeans(n_clusters=k, random_state=42).fit(GeneMtx1Sub)\n",
    "                for k in range(1, 11)]"
   ]
  },
  {
   "cell_type": "code",
   "execution_count": 15,
   "id": "bbbeee56",
   "metadata": {},
   "outputs": [],
   "source": [
    "inertias = [model.inertia_ for model in kmeans_per_k]"
   ]
  },
  {
   "cell_type": "code",
   "execution_count": 16,
   "id": "cd4c96fe",
   "metadata": {},
   "outputs": [],
   "source": [
    "silhouette_scores = [silhouette_score(GeneMtx1Sub, model.labels_)\n",
    "                     for model in kmeans_per_k[1:]]     "
   ]
  },
  {
   "cell_type": "code",
   "execution_count": 17,
   "id": "4c1cb1cd",
   "metadata": {},
   "outputs": [
    {
     "data": {
      "image/png": "[encoded data removed]",
      "text/plain": [
       "<Figure size 800x400 with 1 Axes>"
      ]
     },
     "metadata": {},
     "output_type": "display_data"
    }
   ],
   "source": [
    "plt.figure(figsize=(8, 4))\n",
    "plt.plot(range(2, 11), silhouette_scores, \"bo-\")\n",
    "plt.xlabel(\"$k$\", fontsize=14)\n",
    "plt.ylabel(\"Silhouette score\", fontsize=14)\n",
    "plt.show()"
   ]
  },
  {
   "cell_type": "markdown",
   "id": "d438f697",
   "metadata": {},
   "source": [
    "According to the Silhouette Score Chart, 2 clusters may be the Right Amount of Clusters for Modeling with the K-Means Machine Learning Algorithm, as 2 Clusters have much higher silhouette scores than any other number of clusters."
   ]
  },
  {
   "cell_type": "code",
   "execution_count": 18,
   "id": "1cd15107",
   "metadata": {},
   "outputs": [],
   "source": [
    "wcss=[]\n",
    "\n",
    "silhouette_scores = []\n",
    "for i in range(1,11):\n",
    "    km=KMeans(n_clusters=i)\n",
    "    km.fit(GeneMtx1Sub)\n",
    "    wcss.append(km.inertia_)"
   ]
  },
  {
   "cell_type": "code",
   "execution_count": 19,
   "id": "378e1ef6",
   "metadata": {},
   "outputs": [
    {
     "data": {
      "image/png": "[encoded data removed]",
      "text/plain": [
       "<Figure size 1200x600 with 1 Axes>"
      ]
     },
     "metadata": {},
     "output_type": "display_data"
    }
   ],
   "source": [
    "plt.figure(figsize=(12,6))\n",
    "plt.plot(range(1,11),wcss)\n",
    "plt.plot(range(1,11),wcss, linewidth=2, color=\"red\", marker =\"8\")\n",
    "plt.xlabel(\"K Value\")\n",
    "plt.xticks(np.arange(1,11,1))\n",
    "plt.ylabel(\"WCSS\")\n",
    "\n",
    "plt.show()"
   ]
  },
  {
   "cell_type": "markdown",
   "id": "5a1c6f8c",
   "metadata": {},
   "source": [
    "According to the Elbow Curve Method for Finding the Optimum 'k' Value for k-means Clustering, the K Value which forms an \"elbow\" looking part of the graph is the optimum k value. In the chart for our dataset, a k value of 2 appears to form the \"elbow\" of the chart. This provides further motivation for completing the future k-means clustering model with a \"k\" of 2. "
   ]
  },
  {
   "cell_type": "markdown",
   "id": "32017858",
   "metadata": {},
   "source": [
    "## STEP 3: Completing K-Means Clustering "
   ]
  },
  {
   "cell_type": "code",
   "execution_count": 20,
   "id": "662ee4e7",
   "metadata": {},
   "outputs": [],
   "source": [
    "# Setting \"k\" to the pre-determined number of 2\n",
    "\n",
    "km1=KMeans(n_clusters=2)"
   ]
  },
  {
   "cell_type": "code",
   "execution_count": 21,
   "id": "690cabd1",
   "metadata": {},
   "outputs": [
    {
     "data": {
      "text/plain": [
       "KMeans(n_clusters=2)"
      ]
     },
     "execution_count": 21,
     "metadata": {},
     "output_type": "execute_result"
    }
   ],
   "source": [
    "# Fitting the Input Data\n",
    "\n",
    "km1.fit(GeneMtx1Sub)"
   ]
  },
  {
   "cell_type": "code",
   "execution_count": 22,
   "id": "482f640d",
   "metadata": {},
   "outputs": [],
   "source": [
    "# Predicting the Labels (\"y\") of the Input Data\n",
    "\n",
    "y=km1.predict(GeneMtx1Sub)"
   ]
  },
  {
   "cell_type": "code",
   "execution_count": 28,
   "id": "21249be2",
   "metadata": {},
   "outputs": [],
   "source": [
    "# Converting the Array to a Dataframe & Initializing y\n",
    "\n",
    "gene_df = pd.DataFrame(data=GeneMtx1Sub)\n",
    "gene_df['y'] = y"
   ]
  },
  {
   "cell_type": "markdown",
   "id": "83981d13",
   "metadata": {},
   "source": [
    "Each Gene now has been labeled in the dataframe as either class 0 or class 1 based off of the k-means clustering model. "
   ]
  },
  {
   "cell_type": "markdown",
   "id": "fce917d8",
   "metadata": {},
   "source": [
    "## STEP 4: Cluster Differences Exploration "
   ]
  },
  {
   "cell_type": "markdown",
   "id": "e5c4cd56",
   "metadata": {},
   "source": [
    "In order to effectively visualize the differences between the two clusters, the 3107 Vorinostat Pertubation observations per Gene must be averaged in order to visualize one mean observation per Gene by cluster. "
   ]
  },
  {
   "cell_type": "code",
   "execution_count": 29,
   "id": "74ba09ed",
   "metadata": {
    "scrolled": true
   },
   "outputs": [
    {
     "data": {
      "text/html": [
       "<div>\n",
       "<style scoped>\n",
       "    .dataframe tbody tr th:only-of-type {\n",
       "        vertical-align: middle;\n",
       "    }\n",
       "\n",
       "    .dataframe tbody tr th {\n",
       "        vertical-align: top;\n",
       "    }\n",
       "\n",
       "    .dataframe thead th {\n",
       "        text-align: right;\n",
       "    }\n",
       "</style>\n",
       "<table border=\"1\" class=\"dataframe\">\n",
       "  <thead>\n",
       "    <tr style=\"text-align: right;\">\n",
       "      <th></th>\n",
       "      <th>0</th>\n",
       "      <th>1</th>\n",
       "      <th>2</th>\n",
       "      <th>3</th>\n",
       "      <th>4</th>\n",
       "      <th>5</th>\n",
       "      <th>6</th>\n",
       "      <th>7</th>\n",
       "      <th>8</th>\n",
       "      <th>9</th>\n",
       "      <th>...</th>\n",
       "      <th>969</th>\n",
       "      <th>970</th>\n",
       "      <th>971</th>\n",
       "      <th>972</th>\n",
       "      <th>973</th>\n",
       "      <th>974</th>\n",
       "      <th>975</th>\n",
       "      <th>976</th>\n",
       "      <th>977</th>\n",
       "      <th>y</th>\n",
       "    </tr>\n",
       "  </thead>\n",
       "  <tbody>\n",
       "    <tr>\n",
       "      <th>0</th>\n",
       "      <td>0.981840</td>\n",
       "      <td>-4.349777</td>\n",
       "      <td>-0.736955</td>\n",
       "      <td>1.456087</td>\n",
       "      <td>0.766685</td>\n",
       "      <td>0.392623</td>\n",
       "      <td>0.994145</td>\n",
       "      <td>1.817665</td>\n",
       "      <td>1.006200</td>\n",
       "      <td>0.869988</td>\n",
       "      <td>...</td>\n",
       "      <td>0.227821</td>\n",
       "      <td>-3.295397</td>\n",
       "      <td>-0.177779</td>\n",
       "      <td>2.162034</td>\n",
       "      <td>0.375500</td>\n",
       "      <td>-0.820496</td>\n",
       "      <td>-1.356636</td>\n",
       "      <td>-0.317277</td>\n",
       "      <td>-4.213585</td>\n",
       "      <td>0.0</td>\n",
       "    </tr>\n",
       "    <tr>\n",
       "      <th>1</th>\n",
       "      <td>0.312489</td>\n",
       "      <td>-1.108969</td>\n",
       "      <td>-0.223275</td>\n",
       "      <td>0.307692</td>\n",
       "      <td>0.400450</td>\n",
       "      <td>0.202844</td>\n",
       "      <td>0.180482</td>\n",
       "      <td>0.149278</td>\n",
       "      <td>0.428045</td>\n",
       "      <td>0.041276</td>\n",
       "      <td>...</td>\n",
       "      <td>0.116080</td>\n",
       "      <td>-0.596596</td>\n",
       "      <td>0.213227</td>\n",
       "      <td>0.633789</td>\n",
       "      <td>0.081114</td>\n",
       "      <td>-0.624222</td>\n",
       "      <td>0.106689</td>\n",
       "      <td>0.043389</td>\n",
       "      <td>-0.899358</td>\n",
       "      <td>1.0</td>\n",
       "    </tr>\n",
       "  </tbody>\n",
       "</table>\n",
       "<p>2 rows × 979 columns</p>\n",
       "</div>"
      ],
      "text/plain": [
       "          0         1         2         3         4         5         6  \\\n",
       "0  0.981840 -4.349777 -0.736955  1.456087  0.766685  0.392623  0.994145   \n",
       "1  0.312489 -1.108969 -0.223275  0.307692  0.400450  0.202844  0.180482   \n",
       "\n",
       "          7         8         9  ...       969       970       971       972  \\\n",
       "0  1.817665  1.006200  0.869988  ...  0.227821 -3.295397 -0.177779  2.162034   \n",
       "1  0.149278  0.428045  0.041276  ...  0.116080 -0.596596  0.213227  0.633789   \n",
       "\n",
       "        973       974       975       976       977    y  \n",
       "0  0.375500 -0.820496 -1.356636 -0.317277 -4.213585  0.0  \n",
       "1  0.081114 -0.624222  0.106689  0.043389 -0.899358  1.0  \n",
       "\n",
       "[2 rows x 979 columns]"
      ]
     },
     "execution_count": 29,
     "metadata": {},
     "output_type": "execute_result"
    }
   ],
   "source": [
    "# Grouping the Data by Class and Calculating the Mean\n",
    "\n",
    "avg_by_cluster = gene_df.groupby(y).mean()\n",
    "avg_by_cluster"
   ]
  },
  {
   "cell_type": "code",
   "execution_count": 33,
   "id": "3ee72f0c",
   "metadata": {},
   "outputs": [],
   "source": [
    "# Seperating Data by Label\n",
    "\n",
    "cluster_0 = avg_by_cluster.iloc[0]\n",
    "cluster_1 = avg_by_cluster.iloc[1]"
   ]
  },
  {
   "cell_type": "markdown",
   "id": "88da0fa5",
   "metadata": {},
   "source": [
    "### Histograms by Class"
   ]
  },
  {
   "cell_type": "markdown",
   "id": "abc3e482",
   "metadata": {},
   "source": [
    "Individual Histograms of Each Class:"
   ]
  },
  {
   "cell_type": "code",
   "execution_count": 105,
   "id": "966ba26f",
   "metadata": {},
   "outputs": [
    {
     "data": {
      "text/plain": [
       "(-10.0, 10.0)"
      ]
     },
     "execution_count": 105,
     "metadata": {},
     "output_type": "execute_result"
    },
    {
     "data": {
      "image/png": "[encoded data removed]",
      "text/plain": [
       "<Figure size 1200x600 with 2 Axes>"
      ]
     },
     "metadata": {},
     "output_type": "display_data"
    }
   ],
   "source": [
    "# Setting a Number of bins for the histogram\n",
    "num_bins = 20\n",
    "\n",
    "# Creating Subplots \n",
    "fig, axes = plt.subplots(nrows=1, ncols=2, figsize=(12, 6))\n",
    "\n",
    "# Creating a Histogram for Cluster 0\n",
    "axes[0].hist(cluster_0.values.flatten(), bins=num_bins, color='blue')\n",
    "axes[0].set_title('Custer 0', size = 15)\n",
    "axes[0].set_xlabel('Average Z-Score by Cluster 0 Gene', size = 12)\n",
    "axes[0].set_ylabel('Frequency', size = 12)\n",
    "axes[0].set_xlim(-10, 10)  \n",
    "\n",
    "# Creating a Histogram for Cluster 1 \n",
    "axes[1].hist(cluster_1.values.flatten(), bins=num_bins, color='orange')\n",
    "axes[1].set_title('Cluster 1', size = 15)\n",
    "axes[1].set_xlabel('Average Z-Score by Cluster 0 Gene', size = 12)\n",
    "axes[1].set_ylabel('Frequency', size = 12)\n",
    "axes[1].set_xlim(-10, 10) \n"
   ]
  },
  {
   "cell_type": "markdown",
   "id": "b0c0b54d",
   "metadata": {},
   "source": [
    "Density Plot Comparing the Two Clusters:"
   ]
  },
  {
   "cell_type": "code",
   "execution_count": 109,
   "id": "10744f8c",
   "metadata": {},
   "outputs": [],
   "source": [
    "# Combining the Two Seperate Class Datasets \n",
    "\n",
    "both_classes = pd.concat([cluster_0, cluster_1], axis = 0)"
   ]
  },
  {
   "cell_type": "code",
   "execution_count": 107,
   "id": "4a236258",
   "metadata": {},
   "outputs": [],
   "source": [
    "# Creating Labels for the Clusters\n",
    "\n",
    "class_labels = [0] * len(cluster_0) + [1] * len(cluster_1)"
   ]
  },
  {
   "cell_type": "code",
   "execution_count": 110,
   "id": "e6aaa61d",
   "metadata": {},
   "outputs": [
    {
     "name": "stdout",
     "output_type": "stream",
     "text": [
      "   Average Z-Score by Gene  Class\n",
      "0                 0.981840      0\n",
      "1                -4.349777      0\n",
      "2                -0.736955      0\n",
      "3                 1.456087      0\n",
      "4                 0.766685      0\n"
     ]
    }
   ],
   "source": [
    "# Creating the Dataframe\n",
    "\n",
    "both_classes_df = pd.DataFrame({'Average Z-Score by Gene': both_classes.values.flatten(), 'Class': class_labels})\n",
    "\n",
    "print(both_classes_df.head())"
   ]
  },
  {
   "cell_type": "code",
   "execution_count": 126,
   "id": "238a1d98",
   "metadata": {},
   "outputs": [
    {
     "data": {
      "text/plain": [
       "(array([0. , 0.1, 0.2, 0.3, 0.4, 0.5, 0.6, 0.7, 0.8, 0.9]),\n",
       " [Text(0, 0, ''),\n",
       "  Text(0, 0, ''),\n",
       "  Text(0, 0, ''),\n",
       "  Text(0, 0, ''),\n",
       "  Text(0, 0, ''),\n",
       "  Text(0, 0, ''),\n",
       "  Text(0, 0, ''),\n",
       "  Text(0, 0, ''),\n",
       "  Text(0, 0, ''),\n",
       "  Text(0, 0, '')])"
      ]
     },
     "execution_count": 126,
     "metadata": {},
     "output_type": "execute_result"
    },
    {
     "data": {
      "image/png": "[encoded data removed]",
      "text/plain": [
       "<Figure size 1000x800 with 1 Axes>"
      ]
     },
     "metadata": {},
     "output_type": "display_data"
    }
   ],
   "source": [
    "# Density Plot\n",
    "\n",
    "plt.figure(figsize=(10, 8))\n",
    "\n",
    "sns.kdeplot(\n",
    "   data=both_classes_df, x=\"Average Z-Score by Gene\", hue=\"Class\",\n",
    "   fill=True, common_norm=False,\n",
    "   alpha=.5, linewidth=0,\n",
    ")\n",
    "\n",
    "plt.xlabel('Average Z-Score by Gene', fontsize=14, fontweight='bold')\n",
    "plt.ylabel('Density', fontsize=14, fontweight='bold')\n",
    "plt.title('Density Comparison of Genes Average Z-score Values by Class', fontsize=16, fontweight='bold')\n",
    "plt.xticks(fontsize=16)\n",
    "plt.yticks(fontsize=16)"
   ]
  },
  {
   "cell_type": "markdown",
   "id": "4cf862a3",
   "metadata": {},
   "source": [
    "Box Plot Comparison by Class"
   ]
  },
  {
   "cell_type": "code",
   "execution_count": 135,
   "id": "d030bb75",
   "metadata": {},
   "outputs": [
    {
     "data": {
      "text/plain": [
       "Text(0.5, 1.0, 'Boxplot Comparison of Genes Average Z-score Values by Class')"
      ]
     },
     "execution_count": 135,
     "metadata": {},
     "output_type": "execute_result"
    },
    {
     "data": {
      "image/png": "[encoded data removed]",
      "text/plain": [
       "<Figure size 1000x800 with 1 Axes>"
      ]
     },
     "metadata": {},
     "output_type": "display_data"
    }
   ],
   "source": [
    "plt.figure(figsize=(10, 8))\n",
    "sns.boxplot(x='Class', y='Average Z-Score by Gene', data=both_classes_df)\n",
    "\n",
    "plt.xlabel('Average Z-Score by Gene', fontsize=14, fontweight='bold')\n",
    "plt.ylabel('Class', fontsize=14, fontweight='bold')\n",
    "plt.title('Boxplot Comparison of Genes Average Z-score Values by Class', fontsize=16, fontweight='bold')"
   ]
  }
 ],
 "metadata": {
  "kernelspec": {
   "display_name": "Python 3 (ipykernel)",
   "language": "python",
   "name": "python3"
  },
  "language_info": {
   "codemirror_mode": {
    "name": "ipython",
    "version": 3
   },
   "file_extension": ".py",
   "mimetype": "text/x-python",
   "name": "python",
   "nbconvert_exporter": "python",
   "pygments_lexer": "ipython3",
   "version": "3.9.13"
  }
 },
 "nbformat": 4,
 "nbformat_minor": 5
}
