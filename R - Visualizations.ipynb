{
 "cells": [
  {
   "cell_type": "code",
   "execution_count": 2,
   "id": "de992bdd",
   "metadata": {},
   "outputs": [
    {
     "name": "stderr",
     "output_type": "stream",
     "text": [
      "also installing the dependencies 'openssl', 'httr2', 'htmltools', 'tinytex', 'xfun', 'glue', 'gert', 'gh', 'callr', 'bslib', 'rmarkdown', 'knitr', 'stringr', 'brio', 'digest', 'jsonlite', 'magrittr', 'processx', 'ps', 'waldo', 'usethis', 'cli', 'fs', 'lifecycle', 'pkgbuild', 'pkgdown', 'pkgload', 'rcmdcheck', 'rlang', 'roxygen2', 'sessioninfo', 'testthat'\n",
      "\n"
     ]
    },
    {
     "name": "stdout",
     "output_type": "stream",
     "text": [
      "\n",
      "  There are binary versions available but the source versions are later:\n",
      "             binary source needs_compilation\n",
      "openssl       1.4.4  2.1.1              TRUE\n",
      "htmltools   0.5.1.1  0.5.7              TRUE\n",
      "tinytex        0.31   0.48             FALSE\n",
      "xfun           0.22   0.41              TRUE\n",
      "glue          1.4.2  1.6.2              TRUE\n",
      "gert          1.3.0  2.0.0              TRUE\n",
      "gh            1.3.0  1.4.0             FALSE\n",
      "callr         3.7.0  3.7.3             FALSE\n",
      "bslib         0.2.4  0.5.1             FALSE\n",
      "rmarkdown       2.8   2.25             FALSE\n",
      "knitr          1.33   1.45             FALSE\n",
      "stringr       1.4.0  1.5.0             FALSE\n",
      "brio          1.1.2  1.1.3              TRUE\n",
      "digest       0.6.27 0.6.33              TRUE\n",
      "jsonlite      1.7.2  1.8.7              TRUE\n",
      "magrittr      2.0.1  2.0.3              TRUE\n",
      "processx      3.5.2  3.8.2              TRUE\n",
      "ps            1.6.0  1.7.5              TRUE\n",
      "waldo         0.2.5  0.5.2             FALSE\n",
      "usethis       2.0.1  2.2.2             FALSE\n",
      "cli           2.5.0  3.6.1              TRUE\n",
      "fs            1.5.0  1.6.3              TRUE\n",
      "lifecycle     1.0.0  1.0.4             FALSE\n",
      "pkgbuild      1.2.0  1.4.2             FALSE\n",
      "pkgdown       1.6.1  2.0.7             FALSE\n",
      "pkgload       1.2.1  1.3.3             FALSE\n",
      "rcmdcheck     1.3.3  1.4.0             FALSE\n",
      "rlang        0.4.11  1.1.2              TRUE\n",
      "roxygen2      7.1.1  7.2.3              TRUE\n",
      "sessioninfo   1.1.1  1.2.2             FALSE\n",
      "testthat      3.0.2  3.2.0              TRUE\n",
      "devtools      2.4.1  2.4.5             FALSE\n",
      "\n",
      "  Binaries will be installed\n",
      "package 'openssl' successfully unpacked and MD5 sums checked\n",
      "package 'htmltools' successfully unpacked and MD5 sums checked\n"
     ]
    },
    {
     "name": "stderr",
     "output_type": "stream",
     "text": [
      "Warning message:\n",
      "\"cannot remove prior installation of package 'htmltools'\"Warning message in file.copy(savedcopy, lib, recursive = TRUE):\n",
      "\"problem copying C:\\Users\\student\\anaconda3\\Lib\\R\\library\\00LOCK\\htmltools\\libs\\x64\\htmltools.dll to C:\\Users\\student\\anaconda3\\Lib\\R\\library\\htmltools\\libs\\x64\\htmltools.dll: Permission denied\"Warning message:\n",
      "\"restored 'htmltools'\""
     ]
    },
    {
     "name": "stdout",
     "output_type": "stream",
     "text": [
      "package 'xfun' successfully unpacked and MD5 sums checked\n",
      "package 'glue' successfully unpacked and MD5 sums checked\n",
      "package 'gert' successfully unpacked and MD5 sums checked\n",
      "package 'brio' successfully unpacked and MD5 sums checked\n",
      "package 'digest' successfully unpacked and MD5 sums checked\n",
      "package 'jsonlite' successfully unpacked and MD5 sums checked\n",
      "package 'magrittr' successfully unpacked and MD5 sums checked\n",
      "package 'processx' successfully unpacked and MD5 sums checked\n",
      "package 'ps' successfully unpacked and MD5 sums checked\n",
      "package 'cli' successfully unpacked and MD5 sums checked\n",
      "package 'fs' successfully unpacked and MD5 sums checked\n",
      "package 'rlang' successfully unpacked and MD5 sums checked\n"
     ]
    },
    {
     "name": "stderr",
     "output_type": "stream",
     "text": [
      "Warning message:\n",
      "\"cannot remove prior installation of package 'rlang'\"Warning message in file.copy(savedcopy, lib, recursive = TRUE):\n",
      "\"problem copying C:\\Users\\student\\anaconda3\\Lib\\R\\library\\00LOCK\\rlang\\libs\\x64\\rlang.dll to C:\\Users\\student\\anaconda3\\Lib\\R\\library\\rlang\\libs\\x64\\rlang.dll: Permission denied\"Warning message:\n",
      "\"restored 'rlang'\""
     ]
    },
    {
     "name": "stdout",
     "output_type": "stream",
     "text": [
      "package 'roxygen2' successfully unpacked and MD5 sums checked\n",
      "package 'testthat' successfully unpacked and MD5 sums checked\n",
      "\n",
      "The downloaded binary packages are in\n",
      "\tC:\\Users\\student\\AppData\\Local\\Temp\\Rtmp6P1dJh\\downloaded_packages\n"
     ]
    },
    {
     "name": "stderr",
     "output_type": "stream",
     "text": [
      "installing the source packages 'httr2', 'tinytex', 'gh', 'callr', 'bslib', 'rmarkdown', 'knitr', 'stringr', 'waldo', 'usethis', 'lifecycle', 'pkgbuild', 'pkgdown', 'pkgload', 'rcmdcheck', 'sessioninfo', 'devtools'\n",
      "\n",
      "Warning message in install.packages(\"devtools\"):\n",
      "\"installation of package 'httr2' had non-zero exit status\"Warning message in install.packages(\"devtools\"):\n",
      "\"installation of package 'tinytex' had non-zero exit status\"Warning message in install.packages(\"devtools\"):\n",
      "\"installation of package 'callr' had non-zero exit status\"Warning message in install.packages(\"devtools\"):\n",
      "\"installation of package 'bslib' had non-zero exit status\"Warning message in install.packages(\"devtools\"):\n",
      "\"installation of package 'knitr' had non-zero exit status\"Warning message in install.packages(\"devtools\"):\n",
      "\"installation of package 'waldo' had non-zero exit status\"Warning message in install.packages(\"devtools\"):\n",
      "\"installation of package 'lifecycle' had non-zero exit status\"Warning message in install.packages(\"devtools\"):\n",
      "\"installation of package 'sessioninfo' had non-zero exit status\"Warning message in install.packages(\"devtools\"):\n",
      "\"installation of package 'gh' had non-zero exit status\"Warning message in install.packages(\"devtools\"):\n",
      "\"installation of package 'stringr' had non-zero exit status\"Warning message in install.packages(\"devtools\"):\n",
      "\"installation of package 'pkgbuild' had non-zero exit status\"Warning message in install.packages(\"devtools\"):\n",
      "\"installation of package 'rmarkdown' had non-zero exit status\"Warning message in install.packages(\"devtools\"):\n",
      "\"installation of package 'usethis' had non-zero exit status\"Warning message in install.packages(\"devtools\"):\n",
      "\"installation of package 'pkgload' had non-zero exit status\"Warning message in install.packages(\"devtools\"):\n",
      "\"installation of package 'rcmdcheck' had non-zero exit status\"Warning message in install.packages(\"devtools\"):\n",
      "\"installation of package 'pkgdown' had non-zero exit status\"Warning message in install.packages(\"devtools\"):\n",
      "\"installation of package 'devtools' had non-zero exit status\""
     ]
    }
   ],
   "source": [
    "install.packages(\"devtools\")"
   ]
  },
  {
   "cell_type": "code",
   "execution_count": 4,
   "id": "f066b626",
   "metadata": {},
   "outputs": [
    {
     "ename": "ERROR",
     "evalue": "Error in loadNamespace(name): there is no package called 'devtools'\n",
     "output_type": "error",
     "traceback": [
      "Error in loadNamespace(name): there is no package called 'devtools'\nTraceback:\n",
      "1. devtools::install_github",
      "2. getExportedValue(pkg, name)",
      "3. asNamespace(ns)",
      "4. getNamespace(ns)",
      "5. loadNamespace(name)",
      "6. withRestarts(stop(cond), retry_loadNamespace = function() NULL)",
      "7. withOneRestart(expr, restarts[[1L]])",
      "8. doWithOneRestart(return(expr), restart)"
     ]
    }
   ],
   "source": [
    "devtools::install_github(\"rlbarter/superheat\")"
   ]
  },
  {
   "cell_type": "code",
   "execution_count": 5,
   "id": "3fbc283d",
   "metadata": {},
   "outputs": [
    {
     "ename": "ERROR",
     "evalue": "Error in library(superheat): there is no package called 'superheat'\n",
     "output_type": "error",
     "traceback": [
      "Error in library(superheat): there is no package called 'superheat'\nTraceback:\n",
      "1. library(superheat)"
     ]
    }
   ],
   "source": [
    "library(superheat)\n",
    "data1 = read.csv(\"C:/Users/student/OneDrive - Bryant University/Desktop/Honors Thesis/HonorThesisKatie/Cluster1/subGeneMtx01.csv\", header=FALSE)\n",
    "data2 = read.csv(\"C:/Users/student/OneDrive - Bryant University/Desktop/Honors Thesis/HonorThesisKatie/Cluster2/subGeneMtx01.csv\", header=FALSE)\n"
   ]
  },
  {
   "cell_type": "code",
   "execution_count": null,
   "id": "6bc77a2a",
   "metadata": {},
   "outputs": [],
   "source": []
  }
 ],
 "metadata": {
  "kernelspec": {
   "display_name": "R",
   "language": "R",
   "name": "ir"
  },
  "language_info": {
   "codemirror_mode": "r",
   "file_extension": ".r",
   "mimetype": "text/x-r-source",
   "name": "R",
   "pygments_lexer": "r",
   "version": "3.6.1"
  }
 },
 "nbformat": 4,
 "nbformat_minor": 5
}
